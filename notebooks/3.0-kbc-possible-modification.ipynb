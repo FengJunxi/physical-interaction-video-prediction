{
 "cells": [
  {
   "cell_type": "markdown",
   "metadata": {},
   "source": [
    "# Possible modifications"
   ]
  },
  {
   "cell_type": "markdown",
   "metadata": {},
   "source": [
    "Below are some possible modifications that could improve the model with their results."
   ]
  },
  {
   "cell_type": "markdown",
   "metadata": {},
   "source": [
    "- Objects become blurry instead of just moving:\n",
    "    * \"The model is able to predict the robot arm very well because it appears in every single video. However, there are hundreds of different objects in the dataset, so accurately modeling how a particular object will move is quite difficult.\" [GitHub issue #623](https://github.com/tensorflow/models/issues/623)\n",
    "    * \"Because the model is deterministic and because it is trained with an l2 error, it represents uncertainty as blur. With a stochastic model, e.g. Kalchbrenner et al. arXiv 2016, you can get predictions that are much less blurry, but this model tends to warp both the arm and the objects in unrealistic ways.\" [GitHub issue #623](https://github.com/tensorflow/models/issues/623)\n",
    "    * Possible reasons:\n",
    "        1. The model is able to predict the robot arm very well because it appears in every single video.\n",
    "        2. Arm state and action can be easily transformed by the CDNA kernels: good for the arm motion. But it might not be the case for objects.\n",
    "    * Possible solutions:\n",
    "        1. Use separate layers for arm prediction and objects motion.\n",
    "        2. Separate the prediction of the arm and object from the LSTM5 transformation (might be hard for the layer to know which parameter is for the arm and for the object).\n",
    "        3. Use two network for predicting the arm and the objects."
   ]
  }
 ],
 "metadata": {
  "kernelspec": {
   "display_name": "Python 2",
   "language": "python",
   "name": "python2"
  },
  "language_info": {
   "codemirror_mode": {
    "name": "ipython",
    "version": 2
   },
   "file_extension": ".py",
   "mimetype": "text/x-python",
   "name": "python",
   "nbconvert_exporter": "python",
   "pygments_lexer": "ipython2",
   "version": "2.7.11"
  }
 },
 "nbformat": 4,
 "nbformat_minor": 2
}
